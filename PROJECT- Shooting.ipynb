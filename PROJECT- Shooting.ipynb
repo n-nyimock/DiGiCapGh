{
 "cells": [
  {
   "cell_type": "code",
   "execution_count": 1,
   "id": "d4e1f65b",
   "metadata": {},
   "outputs": [],
   "source": [
    "import pandas as pd\n",
    "import numpy as np\n",
    "import seaborn as sns\n",
    "import matplotlib.pyplot as plt\n",
    "import os\n",
    "os.chdir(r'D:\\CODING\\Python Projects')"
   ]
  },
  {
   "cell_type": "code",
   "execution_count": 2,
   "id": "76d0e3a5",
   "metadata": {},
   "outputs": [
    {
     "name": "stdout",
     "output_type": "stream",
     "text": [
      "Requirement already satisfied: plotly in c:\\users\\nathan\\anaconda3\\lib\\site-packages (5.6.0)\n",
      "Requirement already satisfied: tenacity>=6.2.0 in c:\\users\\nathan\\anaconda3\\lib\\site-packages (from plotly) (8.0.1)\n",
      "Requirement already satisfied: six in c:\\users\\nathan\\anaconda3\\lib\\site-packages (from plotly) (1.16.0)\n",
      "Note: you may need to restart the kernel to use updated packages.\n"
     ]
    }
   ],
   "source": [
    "pip install plotly"
   ]
  },
  {
   "cell_type": "code",
   "execution_count": 3,
   "id": "77e39ade",
   "metadata": {},
   "outputs": [],
   "source": [
    "import plotly.graph_objs as go\n",
    "import plotly.figure_factory as ff\n",
    "import plotly.express as px"
   ]
  },
  {
   "cell_type": "code",
   "execution_count": 4,
   "id": "d0ea0aa6",
   "metadata": {},
   "outputs": [],
   "source": [
    "shootingdata = pd.read_csv('shootings.csv')"
   ]
  },
  {
   "cell_type": "code",
   "execution_count": 16,
   "id": "83baf3d9",
   "metadata": {},
   "outputs": [
    {
     "data": {
      "text/html": [
       "<div>\n",
       "<style scoped>\n",
       "    .dataframe tbody tr th:only-of-type {\n",
       "        vertical-align: middle;\n",
       "    }\n",
       "\n",
       "    .dataframe tbody tr th {\n",
       "        vertical-align: top;\n",
       "    }\n",
       "\n",
       "    .dataframe thead th {\n",
       "        text-align: right;\n",
       "    }\n",
       "</style>\n",
       "<table border=\"1\" class=\"dataframe\">\n",
       "  <thead>\n",
       "    <tr style=\"text-align: right;\">\n",
       "      <th></th>\n",
       "      <th>id</th>\n",
       "      <th>name</th>\n",
       "      <th>date</th>\n",
       "      <th>manner_of_death</th>\n",
       "      <th>armed</th>\n",
       "      <th>age</th>\n",
       "      <th>gender</th>\n",
       "      <th>race</th>\n",
       "      <th>city</th>\n",
       "      <th>state</th>\n",
       "      <th>signs_of_mental_illness</th>\n",
       "      <th>threat_level</th>\n",
       "      <th>flee</th>\n",
       "      <th>body_camera</th>\n",
       "      <th>arms_category</th>\n",
       "    </tr>\n",
       "  </thead>\n",
       "  <tbody>\n",
       "    <tr>\n",
       "      <th>0</th>\n",
       "      <td>3</td>\n",
       "      <td>Tim Elliot</td>\n",
       "      <td>2 01 2015</td>\n",
       "      <td>shot</td>\n",
       "      <td>gun</td>\n",
       "      <td>53.0</td>\n",
       "      <td>M</td>\n",
       "      <td>Asian</td>\n",
       "      <td>Shelton</td>\n",
       "      <td>WA</td>\n",
       "      <td>True</td>\n",
       "      <td>attack</td>\n",
       "      <td>Not fleeing</td>\n",
       "      <td>False</td>\n",
       "      <td>Guns</td>\n",
       "    </tr>\n",
       "    <tr>\n",
       "      <th>1</th>\n",
       "      <td>4</td>\n",
       "      <td>Lewis Lee Lembke</td>\n",
       "      <td>2 01 2015</td>\n",
       "      <td>shot</td>\n",
       "      <td>gun</td>\n",
       "      <td>47.0</td>\n",
       "      <td>M</td>\n",
       "      <td>White</td>\n",
       "      <td>Aloha</td>\n",
       "      <td>OR</td>\n",
       "      <td>False</td>\n",
       "      <td>attack</td>\n",
       "      <td>Not fleeing</td>\n",
       "      <td>False</td>\n",
       "      <td>Guns</td>\n",
       "    </tr>\n",
       "    <tr>\n",
       "      <th>2</th>\n",
       "      <td>5</td>\n",
       "      <td>John Paul Quintero</td>\n",
       "      <td>3 01 2015</td>\n",
       "      <td>shot and Tasered</td>\n",
       "      <td>unarmed</td>\n",
       "      <td>23.0</td>\n",
       "      <td>M</td>\n",
       "      <td>Hispanic</td>\n",
       "      <td>Wichita</td>\n",
       "      <td>KS</td>\n",
       "      <td>False</td>\n",
       "      <td>other</td>\n",
       "      <td>Not fleeing</td>\n",
       "      <td>False</td>\n",
       "      <td>Unarmed</td>\n",
       "    </tr>\n",
       "    <tr>\n",
       "      <th>3</th>\n",
       "      <td>8</td>\n",
       "      <td>Matthew Hoffman</td>\n",
       "      <td>4 01 2015</td>\n",
       "      <td>shot</td>\n",
       "      <td>toy weapon</td>\n",
       "      <td>32.0</td>\n",
       "      <td>M</td>\n",
       "      <td>White</td>\n",
       "      <td>San Francisco</td>\n",
       "      <td>CA</td>\n",
       "      <td>True</td>\n",
       "      <td>attack</td>\n",
       "      <td>Not fleeing</td>\n",
       "      <td>False</td>\n",
       "      <td>Other unusual objects</td>\n",
       "    </tr>\n",
       "    <tr>\n",
       "      <th>4</th>\n",
       "      <td>9</td>\n",
       "      <td>Michael Rodriguez</td>\n",
       "      <td>4 01 2015</td>\n",
       "      <td>shot</td>\n",
       "      <td>nail gun</td>\n",
       "      <td>39.0</td>\n",
       "      <td>M</td>\n",
       "      <td>Hispanic</td>\n",
       "      <td>Evans</td>\n",
       "      <td>CO</td>\n",
       "      <td>False</td>\n",
       "      <td>attack</td>\n",
       "      <td>Not fleeing</td>\n",
       "      <td>False</td>\n",
       "      <td>Piercing objects</td>\n",
       "    </tr>\n",
       "  </tbody>\n",
       "</table>\n",
       "</div>"
      ],
      "text/plain": [
       "   id                name       date   manner_of_death       armed   age  \\\n",
       "0   3          Tim Elliot  2 01 2015              shot         gun  53.0   \n",
       "1   4    Lewis Lee Lembke  2 01 2015              shot         gun  47.0   \n",
       "2   5  John Paul Quintero  3 01 2015  shot and Tasered     unarmed  23.0   \n",
       "3   8     Matthew Hoffman  4 01 2015              shot  toy weapon  32.0   \n",
       "4   9   Michael Rodriguez  4 01 2015              shot    nail gun  39.0   \n",
       "\n",
       "  gender      race           city state  signs_of_mental_illness threat_level  \\\n",
       "0      M     Asian        Shelton    WA                     True       attack   \n",
       "1      M     White          Aloha    OR                    False       attack   \n",
       "2      M  Hispanic        Wichita    KS                    False        other   \n",
       "3      M     White  San Francisco    CA                     True       attack   \n",
       "4      M  Hispanic          Evans    CO                    False       attack   \n",
       "\n",
       "          flee  body_camera          arms_category  \n",
       "0  Not fleeing        False                   Guns  \n",
       "1  Not fleeing        False                   Guns  \n",
       "2  Not fleeing        False                Unarmed  \n",
       "3  Not fleeing        False  Other unusual objects  \n",
       "4  Not fleeing        False       Piercing objects  "
      ]
     },
     "execution_count": 16,
     "metadata": {},
     "output_type": "execute_result"
    }
   ],
   "source": [
    "shootingdata.head()"
   ]
  },
  {
   "cell_type": "code",
   "execution_count": 5,
   "id": "42c4871c",
   "metadata": {},
   "outputs": [
    {
     "data": {
      "text/html": [
       "<div>\n",
       "<style scoped>\n",
       "    .dataframe tbody tr th:only-of-type {\n",
       "        vertical-align: middle;\n",
       "    }\n",
       "\n",
       "    .dataframe tbody tr th {\n",
       "        vertical-align: top;\n",
       "    }\n",
       "\n",
       "    .dataframe thead th {\n",
       "        text-align: right;\n",
       "    }\n",
       "</style>\n",
       "<table border=\"1\" class=\"dataframe\">\n",
       "  <thead>\n",
       "    <tr style=\"text-align: right;\">\n",
       "      <th></th>\n",
       "      <th>id</th>\n",
       "      <th>name</th>\n",
       "      <th>date</th>\n",
       "      <th>manner_of_death</th>\n",
       "      <th>armed</th>\n",
       "      <th>age</th>\n",
       "      <th>gender</th>\n",
       "      <th>race</th>\n",
       "      <th>city</th>\n",
       "      <th>state</th>\n",
       "      <th>signs_of_mental_illness</th>\n",
       "      <th>threat_level</th>\n",
       "      <th>flee</th>\n",
       "      <th>body_camera</th>\n",
       "      <th>arms_category</th>\n",
       "    </tr>\n",
       "  </thead>\n",
       "  <tbody>\n",
       "    <tr>\n",
       "      <th>4890</th>\n",
       "      <td>5916</td>\n",
       "      <td>Rayshard Brooks</td>\n",
       "      <td>12 06 2020</td>\n",
       "      <td>shot</td>\n",
       "      <td>Taser</td>\n",
       "      <td>27.0</td>\n",
       "      <td>M</td>\n",
       "      <td>Black</td>\n",
       "      <td>Atlanta</td>\n",
       "      <td>GA</td>\n",
       "      <td>False</td>\n",
       "      <td>attack</td>\n",
       "      <td>Foot</td>\n",
       "      <td>True</td>\n",
       "      <td>Electrical devices</td>\n",
       "    </tr>\n",
       "    <tr>\n",
       "      <th>4891</th>\n",
       "      <td>5925</td>\n",
       "      <td>Caine Van Pelt</td>\n",
       "      <td>12 06 2020</td>\n",
       "      <td>shot</td>\n",
       "      <td>gun</td>\n",
       "      <td>23.0</td>\n",
       "      <td>M</td>\n",
       "      <td>Black</td>\n",
       "      <td>Crown Point</td>\n",
       "      <td>IN</td>\n",
       "      <td>False</td>\n",
       "      <td>attack</td>\n",
       "      <td>Car</td>\n",
       "      <td>False</td>\n",
       "      <td>Guns</td>\n",
       "    </tr>\n",
       "    <tr>\n",
       "      <th>4892</th>\n",
       "      <td>5918</td>\n",
       "      <td>Hannah Fizer</td>\n",
       "      <td>13 06 2020</td>\n",
       "      <td>shot</td>\n",
       "      <td>unarmed</td>\n",
       "      <td>25.0</td>\n",
       "      <td>F</td>\n",
       "      <td>White</td>\n",
       "      <td>Sedalia</td>\n",
       "      <td>MO</td>\n",
       "      <td>False</td>\n",
       "      <td>other</td>\n",
       "      <td>Not fleeing</td>\n",
       "      <td>False</td>\n",
       "      <td>Unarmed</td>\n",
       "    </tr>\n",
       "    <tr>\n",
       "      <th>4893</th>\n",
       "      <td>5921</td>\n",
       "      <td>William Slyter</td>\n",
       "      <td>13 06 2020</td>\n",
       "      <td>shot</td>\n",
       "      <td>gun</td>\n",
       "      <td>22.0</td>\n",
       "      <td>M</td>\n",
       "      <td>White</td>\n",
       "      <td>Kansas City</td>\n",
       "      <td>MO</td>\n",
       "      <td>False</td>\n",
       "      <td>other</td>\n",
       "      <td>Other</td>\n",
       "      <td>False</td>\n",
       "      <td>Guns</td>\n",
       "    </tr>\n",
       "    <tr>\n",
       "      <th>4894</th>\n",
       "      <td>5924</td>\n",
       "      <td>Nicholas Hirsh</td>\n",
       "      <td>15 06 2020</td>\n",
       "      <td>shot</td>\n",
       "      <td>gun</td>\n",
       "      <td>31.0</td>\n",
       "      <td>M</td>\n",
       "      <td>White</td>\n",
       "      <td>Lawrence</td>\n",
       "      <td>KS</td>\n",
       "      <td>False</td>\n",
       "      <td>attack</td>\n",
       "      <td>Car</td>\n",
       "      <td>False</td>\n",
       "      <td>Guns</td>\n",
       "    </tr>\n",
       "  </tbody>\n",
       "</table>\n",
       "</div>"
      ],
      "text/plain": [
       "        id             name        date manner_of_death    armed   age gender  \\\n",
       "4890  5916  Rayshard Brooks  12 06 2020            shot    Taser  27.0      M   \n",
       "4891  5925   Caine Van Pelt  12 06 2020            shot      gun  23.0      M   \n",
       "4892  5918     Hannah Fizer  13 06 2020            shot  unarmed  25.0      F   \n",
       "4893  5921   William Slyter  13 06 2020            shot      gun  22.0      M   \n",
       "4894  5924   Nicholas Hirsh  15 06 2020            shot      gun  31.0      M   \n",
       "\n",
       "       race         city state  signs_of_mental_illness threat_level  \\\n",
       "4890  Black      Atlanta    GA                    False       attack   \n",
       "4891  Black  Crown Point    IN                    False       attack   \n",
       "4892  White      Sedalia    MO                    False        other   \n",
       "4893  White  Kansas City    MO                    False        other   \n",
       "4894  White     Lawrence    KS                    False       attack   \n",
       "\n",
       "             flee  body_camera       arms_category  \n",
       "4890         Foot         True  Electrical devices  \n",
       "4891          Car        False                Guns  \n",
       "4892  Not fleeing        False             Unarmed  \n",
       "4893        Other        False                Guns  \n",
       "4894          Car        False                Guns  "
      ]
     },
     "execution_count": 5,
     "metadata": {},
     "output_type": "execute_result"
    }
   ],
   "source": [
    "shootingdata.tail()"
   ]
  },
  {
   "cell_type": "code",
   "execution_count": 18,
   "id": "f2ae6425",
   "metadata": {},
   "outputs": [
    {
     "data": {
      "text/html": [
       "<div>\n",
       "<style scoped>\n",
       "    .dataframe tbody tr th:only-of-type {\n",
       "        vertical-align: middle;\n",
       "    }\n",
       "\n",
       "    .dataframe tbody tr th {\n",
       "        vertical-align: top;\n",
       "    }\n",
       "\n",
       "    .dataframe thead th {\n",
       "        text-align: right;\n",
       "    }\n",
       "</style>\n",
       "<table border=\"1\" class=\"dataframe\">\n",
       "  <thead>\n",
       "    <tr style=\"text-align: right;\">\n",
       "      <th></th>\n",
       "      <th>id</th>\n",
       "      <th>age</th>\n",
       "    </tr>\n",
       "  </thead>\n",
       "  <tbody>\n",
       "    <tr>\n",
       "      <th>count</th>\n",
       "      <td>4895.000000</td>\n",
       "      <td>4895.000000</td>\n",
       "    </tr>\n",
       "    <tr>\n",
       "      <th>mean</th>\n",
       "      <td>2902.148519</td>\n",
       "      <td>36.549750</td>\n",
       "    </tr>\n",
       "    <tr>\n",
       "      <th>std</th>\n",
       "      <td>1683.467910</td>\n",
       "      <td>12.694348</td>\n",
       "    </tr>\n",
       "    <tr>\n",
       "      <th>min</th>\n",
       "      <td>3.000000</td>\n",
       "      <td>6.000000</td>\n",
       "    </tr>\n",
       "    <tr>\n",
       "      <th>25%</th>\n",
       "      <td>1441.500000</td>\n",
       "      <td>27.000000</td>\n",
       "    </tr>\n",
       "    <tr>\n",
       "      <th>50%</th>\n",
       "      <td>2847.000000</td>\n",
       "      <td>35.000000</td>\n",
       "    </tr>\n",
       "    <tr>\n",
       "      <th>75%</th>\n",
       "      <td>4352.500000</td>\n",
       "      <td>45.000000</td>\n",
       "    </tr>\n",
       "    <tr>\n",
       "      <th>max</th>\n",
       "      <td>5925.000000</td>\n",
       "      <td>91.000000</td>\n",
       "    </tr>\n",
       "  </tbody>\n",
       "</table>\n",
       "</div>"
      ],
      "text/plain": [
       "                id          age\n",
       "count  4895.000000  4895.000000\n",
       "mean   2902.148519    36.549750\n",
       "std    1683.467910    12.694348\n",
       "min       3.000000     6.000000\n",
       "25%    1441.500000    27.000000\n",
       "50%    2847.000000    35.000000\n",
       "75%    4352.500000    45.000000\n",
       "max    5925.000000    91.000000"
      ]
     },
     "execution_count": 18,
     "metadata": {},
     "output_type": "execute_result"
    }
   ],
   "source": [
    "shootingdata.describe()"
   ]
  },
  {
   "cell_type": "code",
   "execution_count": 6,
   "id": "7da07043",
   "metadata": {},
   "outputs": [
    {
     "data": {
      "text/plain": [
       "(4895, 15)"
      ]
     },
     "execution_count": 6,
     "metadata": {},
     "output_type": "execute_result"
    }
   ],
   "source": [
    "shootingdata.shape"
   ]
  },
  {
   "cell_type": "code",
   "execution_count": 21,
   "id": "1de534e7",
   "metadata": {},
   "outputs": [
    {
     "data": {
      "text/plain": [
       "Index(['id', 'name', 'date', 'manner_of_death', 'armed', 'age', 'gender',\n",
       "       'race', 'city', 'state', 'signs_of_mental_illness', 'threat_level',\n",
       "       'flee', 'body_camera', 'arms_category'],\n",
       "      dtype='object')"
      ]
     },
     "execution_count": 21,
     "metadata": {},
     "output_type": "execute_result"
    }
   ],
   "source": [
    "shootingdata.columns"
   ]
  },
  {
   "cell_type": "code",
   "execution_count": 8,
   "id": "5df46ccc",
   "metadata": {},
   "outputs": [
    {
     "data": {
      "text/plain": [
       "id                         0\n",
       "name                       0\n",
       "date                       0\n",
       "manner_of_death            0\n",
       "armed                      0\n",
       "age                        0\n",
       "gender                     0\n",
       "race                       0\n",
       "city                       0\n",
       "state                      0\n",
       "signs_of_mental_illness    0\n",
       "threat_level               0\n",
       "flee                       0\n",
       "body_camera                0\n",
       "arms_category              0\n",
       "dtype: int64"
      ]
     },
     "execution_count": 8,
     "metadata": {},
     "output_type": "execute_result"
    }
   ],
   "source": [
    "shootingdata.isnull().sum()"
   ]
  },
  {
   "cell_type": "markdown",
   "id": "25b32821",
   "metadata": {},
   "source": [
    "# Race Counts"
   ]
  },
  {
   "cell_type": "code",
   "execution_count": 9,
   "id": "4fa9f255",
   "metadata": {},
   "outputs": [
    {
     "data": {
      "text/plain": [
       "White       2476\n",
       "Black       1298\n",
       "Hispanic     902\n",
       "Asian         93\n",
       "Native        78\n",
       "Other         48\n",
       "Name: race, dtype: int64"
      ]
     },
     "execution_count": 9,
     "metadata": {},
     "output_type": "execute_result"
    }
   ],
   "source": [
    "shootingdata['race'].value_counts()"
   ]
  },
  {
   "cell_type": "markdown",
   "id": "e8117c62",
   "metadata": {},
   "source": [
    "# Which Race was shot the most"
   ]
  },
  {
   "cell_type": "code",
   "execution_count": 36,
   "id": "f6f04d73",
   "metadata": {},
   "outputs": [
    {
     "data": {
      "text/plain": [
       "<AxesSubplot:title={'center':'Which race was shot the most'}, xlabel='race', ylabel='count'>"
      ]
     },
     "execution_count": 36,
     "metadata": {},
     "output_type": "execute_result"
    },
    {
     "data": {
      "image/png": "[encoded data removed]",
      "text/plain": [
       "<Figure size 432x288 with 1 Axes>"
      ]
     },
     "metadata": {
      "needs_background": "light"
     },
     "output_type": "display_data"
    }
   ],
   "source": [
    "plt.title('Which race was shot the most')\n",
    "sns.countplot(data = shootingdata, x = 'race')"
   ]
  },
  {
   "cell_type": "markdown",
   "id": "fba862a5",
   "metadata": {},
   "source": [
    "# Shots categorized by Gender"
   ]
  },
  {
   "cell_type": "code",
   "execution_count": 10,
   "id": "1e3b2bee",
   "metadata": {},
   "outputs": [
    {
     "data": {
      "text/plain": [
       "M    4673\n",
       "F     222\n",
       "Name: gender, dtype: int64"
      ]
     },
     "execution_count": 10,
     "metadata": {},
     "output_type": "execute_result"
    }
   ],
   "source": [
    "shot_by_gender = shootingdata.gender.value_counts()\n",
    "shot_by_gender"
   ]
  },
  {
   "cell_type": "code",
   "execution_count": 38,
   "id": "8b795810",
   "metadata": {},
   "outputs": [
    {
     "data": {
      "text/plain": [
       "([<matplotlib.patches.Wedge at 0x133700011c0>,\n",
       "  <matplotlib.patches.Wedge at 0x133700019d0>],\n",
       " [Text(1.0888537659492934, -0.15619691539221137, 'M'),\n",
       "  Text(-1.0888537659492932, 0.15619691539221248, 'F')],\n",
       " [Text(0.5939202359723418, -0.08519831748666074, '95.5%'),\n",
       "  Text(-0.5939202359723417, 0.08519831748666133, '4.5%')])"
      ]
     },
     "execution_count": 38,
     "metadata": {},
     "output_type": "execute_result"
    },
    {
     "data": {
      "image/png": "[encoded data removed]",
      "text/plain": [
       "<Figure size 432x288 with 1 Axes>"
      ]
     },
     "metadata": {},
     "output_type": "display_data"
    }
   ],
   "source": [
    "plt.title(\"Shot by Gender\")\n",
    "plt.pie(shot_by_gender, labels=shot_by_gender.index, autopct='%1.1f%%', startangle=180)"
   ]
  },
  {
   "cell_type": "markdown",
   "id": "130a5aa9",
   "metadata": {},
   "source": [
    "# Shots Categorized by Age"
   ]
  },
  {
   "cell_type": "code",
   "execution_count": 21,
   "id": "a11a6cda",
   "metadata": {},
   "outputs": [
    {
     "data": {
      "text/plain": [
       "25.0    176\n",
       "31.0    174\n",
       "27.0    165\n",
       "33.0    164\n",
       "29.0    160\n",
       "       ... \n",
       "13.0      1\n",
       "91.0      1\n",
       "79.0      1\n",
       "78.0      1\n",
       "81.0      1\n",
       "Name: age, Length: 76, dtype: int64"
      ]
     },
     "execution_count": 21,
     "metadata": {},
     "output_type": "execute_result"
    }
   ],
   "source": [
    "shot_by_age = shootingdata.age.value_counts()\n",
    "shot_by_age"
   ]
  },
  {
   "cell_type": "code",
   "execution_count": 11,
   "id": "580d2c58",
   "metadata": {},
   "outputs": [
    {
     "data": {
      "image/png": "[encoded data removed]",
      "text/plain": [
       "<Figure size 1440x720 with 1 Axes>"
      ]
     },
     "metadata": {
      "needs_background": "light"
     },
     "output_type": "display_data"
    }
   ],
   "source": [
    "plt.figure(figsize=(20, 10))\n",
    "plt.title(\"Shot by Age\")\n",
    "plt.xlabel('Age')\n",
    "plt.ylabel('Number of deaths')\n",
    "plt.hist(shootingdata.age, bins=np.arange(5,100,5), color='purple');"
   ]
  },
  {
   "cell_type": "markdown",
   "id": "0ac3567f",
   "metadata": {},
   "source": [
    "# Top 10 city with shooting counts"
   ]
  },
  {
   "cell_type": "code",
   "execution_count": 12,
   "id": "c5f1e419",
   "metadata": {},
   "outputs": [
    {
     "data": {
      "text/plain": [
       "Los Angeles     78\n",
       "Phoenix         66\n",
       "Houston         51\n",
       "Las Vegas       41\n",
       "San Antonio     40\n",
       "Chicago         38\n",
       "Columbus        36\n",
       "Albuquerque     32\n",
       "Jacksonville    31\n",
       "St. Louis       30\n",
       "Name: city, dtype: int64"
      ]
     },
     "execution_count": 12,
     "metadata": {},
     "output_type": "execute_result"
    }
   ],
   "source": [
    "top10_shot_by_city = shootingdata.city.value_counts().head(10)\n",
    "top10_shot_by_city"
   ]
  },
  {
   "cell_type": "code",
   "execution_count": 13,
   "id": "82b70e80",
   "metadata": {},
   "outputs": [],
   "source": [
    "topcity = shootingdata.city.value_counts().to_frame().reset_index()\n",
    "topcity.columns = ['City','Count']\n",
    "topcity = topcity[0:10]"
   ]
  },
  {
   "cell_type": "code",
   "execution_count": 14,
   "id": "e7d88ead",
   "metadata": {},
   "outputs": [
    {
     "data": {
      "text/plain": [
       "<AxesSubplot:title={'center':'Top 10 city with shooting counts'}, xlabel='City', ylabel='Count'>"
      ]
     },
     "execution_count": 14,
     "metadata": {},
     "output_type": "execute_result"
    },
    {
     "data": {
      "image/png": "[encoded data removed]",
      "text/plain": [
       "<Figure size 432x288 with 1 Axes>"
      ]
     },
     "metadata": {
      "needs_background": "light"
     },
     "output_type": "display_data"
    }
   ],
   "source": [
    "plt.title('Top 10 city with shooting counts')\n",
    "plt.xticks(rotation=45)\n",
    "sns.barplot(data=topcity,x='City',y='Count')"
   ]
  },
  {
   "cell_type": "markdown",
   "id": "33ac9894",
   "metadata": {},
   "source": [
    "# Items most of the victims were armed with at the time when police shot them?"
   ]
  },
  {
   "cell_type": "code",
   "execution_count": 15,
   "id": "e03f05cf",
   "metadata": {},
   "outputs": [
    {
     "data": {
      "text/plain": [
       "Guns                     2764\n",
       "Sharp objects             818\n",
       "Unknown                   418\n",
       "Unarmed                   348\n",
       "Other unusual objects     192\n",
       "Blunt instruments         122\n",
       "Vehicles                  121\n",
       "Multiple                   54\n",
       "Piercing objects           29\n",
       "Electrical devices         24\n",
       "Explosives                  4\n",
       "Hand tools                  1\n",
       "Name: arms_category, dtype: int64"
      ]
     },
     "execution_count": 15,
     "metadata": {},
     "output_type": "execute_result"
    }
   ],
   "source": [
    "shot_by_arms = shootingdata.arms_category.value_counts()\n",
    "shot_by_arms"
   ]
  },
  {
   "cell_type": "code",
   "execution_count": 37,
   "id": "4ae36972",
   "metadata": {},
   "outputs": [
    {
     "data": {
      "text/plain": [
       "<function matplotlib.pyplot.show(close=None, block=None)>"
      ]
     },
     "execution_count": 37,
     "metadata": {},
     "output_type": "execute_result"
    },
    {
     "data": {
      "image/png": "[encoded data removed]",
      "text/plain": [
       "<Figure size 1080x720 with 1 Axes>"
      ]
     },
     "metadata": {
      "needs_background": "light"
     },
     "output_type": "display_data"
    }
   ],
   "source": [
    "plt.figure(figsize=(15, 10))\n",
    "plt.title(\"Killed by Arms Category\")\n",
    "plt.xlabel('Number of deaths')\n",
    "plt.ylabel('arms_category')\n",
    "plt.hist(shootingdata.age, bins=np.arange(5,100,5));\n",
    "plt.show"
   ]
  },
  {
   "cell_type": "markdown",
   "id": "cb118b84",
   "metadata": {},
   "source": [
    "# Was the suspect mentally ill?"
   ]
  },
  {
   "cell_type": "code",
   "execution_count": 39,
   "id": "3366553c",
   "metadata": {},
   "outputs": [
    {
     "data": {
      "text/plain": [
       "<AxesSubplot:title={'center':'Was the shot person mentally ill?'}, xlabel='signs_of_mental_illness', ylabel='count'>"
      ]
     },
     "execution_count": 39,
     "metadata": {},
     "output_type": "execute_result"
    },
    {
     "data": {
      "image/png": "[encoded data removed]",
      "text/plain": [
       "<Figure size 432x288 with 1 Axes>"
      ]
     },
     "metadata": {
      "needs_background": "light"
     },
     "output_type": "display_data"
    }
   ],
   "source": [
    "plt.title('Was the shot person mentally ill?')\n",
    "sns.countplot(data = shootingdata, x = 'signs_of_mental_illness')"
   ]
  },
  {
   "cell_type": "markdown",
   "id": "3dc793ff",
   "metadata": {},
   "source": [
    "# Manner of death"
   ]
  },
  {
   "cell_type": "code",
   "execution_count": 41,
   "id": "3ddb8877",
   "metadata": {},
   "outputs": [
    {
     "data": {
      "text/plain": [
       "<AxesSubplot:title={'center':'Manner of Death'}, xlabel='manner_of_death', ylabel='count'>"
      ]
     },
     "execution_count": 41,
     "metadata": {},
     "output_type": "execute_result"
    },
    {
     "data": {
      "image/png": "[encoded data removed]",
      "text/plain": [
       "<Figure size 432x288 with 1 Axes>"
      ]
     },
     "metadata": {
      "needs_background": "light"
     },
     "output_type": "display_data"
    }
   ],
   "source": [
    "plt.title('Manner of Death')\n",
    "sns.countplot(data = shootingdata, x = 'manner_of_death')"
   ]
  },
  {
   "cell_type": "markdown",
   "id": "67487a0b",
   "metadata": {},
   "source": [
    "# Number of suspect trying to flee\n"
   ]
  },
  {
   "cell_type": "code",
   "execution_count": 43,
   "id": "e5ca31de",
   "metadata": {},
   "outputs": [
    {
     "data": {
      "text/plain": [
       "<AxesSubplot:title={'center':'Suspect Flee vs Not Flee'}, xlabel='flee', ylabel='count'>"
      ]
     },
     "execution_count": 43,
     "metadata": {},
     "output_type": "execute_result"
    },
    {
     "data": {
      "image/png": "[encoded data removed]",
      "text/plain": [
       "<Figure size 432x288 with 1 Axes>"
      ]
     },
     "metadata": {
      "needs_background": "light"
     },
     "output_type": "display_data"
    }
   ],
   "source": [
    "plt.title('Suspect Flee vs Not Flee')\n",
    "sns.countplot(data = shootingdata, x = 'flee')"
   ]
  },
  {
   "cell_type": "code",
   "execution_count": 46,
   "id": "b1edba02",
   "metadata": {},
   "outputs": [
    {
     "data": {
      "text/plain": [
       "<AxesSubplot:title={'center':'Suspect Flee vs Not Flee'}, xlabel='count', ylabel='arms_category'>"
      ]
     },
     "execution_count": 46,
     "metadata": {},
     "output_type": "execute_result"
    },
    {
     "data": {
      "image/png": "[encoded data removed]",
      "text/plain": [
       "<Figure size 720x360 with 1 Axes>"
      ]
     },
     "metadata": {
      "needs_background": "light"
     },
     "output_type": "display_data"
    }
   ],
   "source": [
    "plt.figure(figsize=(10,5))\n",
    "plt.title('Suspect Flee vs Not Flee')\n",
    "sns.countplot(data = shootingdata, y = 'arms_category')"
   ]
  },
  {
   "cell_type": "code",
   "execution_count": null,
   "id": "41986e85",
   "metadata": {},
   "outputs": [],
   "source": []
  }
 ],
 "metadata": {
  "kernelspec": {
   "display_name": "Python 3 (ipykernel)",
   "language": "python",
   "name": "python3"
  },
  "language_info": {
   "codemirror_mode": {
    "name": "ipython",
    "version": 3
   },
   "file_extension": ".py",
   "mimetype": "text/x-python",
   "name": "python",
   "nbconvert_exporter": "python",
   "pygments_lexer": "ipython3",
   "version": "3.9.7"
  }
 },
 "nbformat": 4,
 "nbformat_minor": 5
}

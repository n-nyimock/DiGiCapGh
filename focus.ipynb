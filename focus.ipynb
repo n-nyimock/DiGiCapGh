{
 "cells": [
  {
   "cell_type": "code",
   "execution_count": 129,
   "id": "95ccedb8",
   "metadata": {},
   "outputs": [],
   "source": [
    "import numpy as np\n",
    "import pandas as pd"
   ]
  },
  {
   "cell_type": "markdown",
   "id": "36834227",
   "metadata": {},
   "source": [
    "# One dimentional array"
   ]
  },
  {
   "cell_type": "code",
   "execution_count": 130,
   "id": "26366d87",
   "metadata": {},
   "outputs": [
    {
     "name": "stdout",
     "output_type": "stream",
     "text": [
      "[ 1  2  3  4  5  6  7  8  9 10]\n"
     ]
    }
   ],
   "source": [
    "one = np.array([1,2,3,4,5,6,7,8,9,10])\n",
    "print(one)"
   ]
  },
  {
   "cell_type": "code",
   "execution_count": 131,
   "id": "535ad263",
   "metadata": {},
   "outputs": [
    {
     "name": "stdout",
     "output_type": "stream",
     "text": [
      "1\n"
     ]
    }
   ],
   "source": [
    "print(one.ndim)"
   ]
  },
  {
   "cell_type": "markdown",
   "id": "e8d4efac",
   "metadata": {},
   "source": [
    "# Two dimentional array"
   ]
  },
  {
   "cell_type": "code",
   "execution_count": 132,
   "id": "bcc34e25",
   "metadata": {},
   "outputs": [
    {
     "name": "stdout",
     "output_type": "stream",
     "text": [
      "[[ 1  2  3  4  5]\n",
      " [ 6  7  8  9 10]]\n"
     ]
    }
   ],
   "source": [
    "m_2 = np.array([[1,2,3,4,5], [6,7,8,9,10]])\n",
    "print(m_2)"
   ]
  },
  {
   "cell_type": "code",
   "execution_count": 133,
   "id": "d3be54c1",
   "metadata": {},
   "outputs": [
    {
     "name": "stdout",
     "output_type": "stream",
     "text": [
      "2\n"
     ]
    }
   ],
   "source": [
    "print(m_2.ndim)"
   ]
  },
  {
   "cell_type": "markdown",
   "id": "1fc321e9",
   "metadata": {},
   "source": [
    "# Indicating the number of arrays you want your data to contain"
   ]
  },
  {
   "cell_type": "code",
   "execution_count": 134,
   "id": "29b282ac",
   "metadata": {},
   "outputs": [
    {
     "name": "stdout",
     "output_type": "stream",
     "text": [
      "[[[[1 2 3 4 5]]]]\n"
     ]
    }
   ],
   "source": [
    "min_4 = np.array([1,2,3,4,5],ndmin=4)\n",
    "print(min_4)"
   ]
  },
  {
   "cell_type": "code",
   "execution_count": 135,
   "id": "cc58a050",
   "metadata": {},
   "outputs": [
    {
     "name": "stdout",
     "output_type": "stream",
     "text": [
      "4\n"
     ]
    }
   ],
   "source": [
    "print(min_4.ndim)"
   ]
  },
  {
   "cell_type": "markdown",
   "id": "c4d5ef05",
   "metadata": {},
   "source": [
    "# Three dimentional array"
   ]
  },
  {
   "cell_type": "code",
   "execution_count": 136,
   "id": "c81f0d21",
   "metadata": {},
   "outputs": [
    {
     "name": "stdout",
     "output_type": "stream",
     "text": [
      "[[[ 1  2  3  4  5]\n",
      "  [ 6  7  8  9 10]\n",
      "  [11 12 13 14 15]]]\n"
     ]
    }
   ],
   "source": [
    "m_3 = np.array([[[1,2,3,4,5],[6,7,8,9,10],[11,12,13,14,15]]])\n",
    "print(m_3)"
   ]
  },
  {
   "cell_type": "code",
   "execution_count": 137,
   "id": "e1c1f00d",
   "metadata": {},
   "outputs": [
    {
     "name": "stdout",
     "output_type": "stream",
     "text": [
      "3\n"
     ]
    }
   ],
   "source": [
    "print(m_3.ndim)"
   ]
  },
  {
   "cell_type": "code",
   "execution_count": 138,
   "id": "bf225db0",
   "metadata": {},
   "outputs": [
    {
     "name": "stdout",
     "output_type": "stream",
     "text": [
      "[15, 2]\n"
     ]
    }
   ],
   "source": [
    "print([one[4]*one[2], one[4]-one[2]])"
   ]
  },
  {
   "cell_type": "markdown",
   "id": "3c579080",
   "metadata": {},
   "source": [
    "# Displaying some values/items from an array"
   ]
  },
  {
   "cell_type": "code",
   "execution_count": 139,
   "id": "08fb37c1",
   "metadata": {},
   "outputs": [
    {
     "name": "stdout",
     "output_type": "stream",
     "text": [
      "8\n"
     ]
    }
   ],
   "source": [
    "print(m_2[1,2])"
   ]
  },
  {
   "cell_type": "markdown",
   "id": "26b87721",
   "metadata": {},
   "source": [
    "# Locating elements in the three dimentional arrays"
   ]
  },
  {
   "cell_type": "code",
   "execution_count": 140,
   "id": "bdd41ee2",
   "metadata": {},
   "outputs": [
    {
     "name": "stdout",
     "output_type": "stream",
     "text": [
      "12\n"
     ]
    }
   ],
   "source": [
    "print(m_3[0,2,1])"
   ]
  },
  {
   "cell_type": "markdown",
   "id": "bd349d75",
   "metadata": {},
   "source": [
    "# Slicing of items in variables"
   ]
  },
  {
   "cell_type": "code",
   "execution_count": 141,
   "id": "a92fcfd6",
   "metadata": {},
   "outputs": [
    {
     "name": "stdout",
     "output_type": "stream",
     "text": [
      "[2 3 4]\n"
     ]
    }
   ],
   "source": [
    "print(one[1:4])"
   ]
  },
  {
   "cell_type": "code",
   "execution_count": 153,
   "id": "962175ba",
   "metadata": {},
   "outputs": [
    {
     "name": "stdout",
     "output_type": "stream",
     "text": [
      "[1 2 3 4 5 6 7]\n"
     ]
    }
   ],
   "source": [
    "print(one[0:7])"
   ]
  },
  {
   "cell_type": "code",
   "execution_count": 159,
   "id": "4581f3b4",
   "metadata": {},
   "outputs": [
    {
     "name": "stdout",
     "output_type": "stream",
     "text": [
      "[2 3 4]\n"
     ]
    }
   ],
   "source": [
    "print(m_2[0,1:4])"
   ]
  },
  {
   "cell_type": "code",
   "execution_count": 162,
   "id": "85aa4e46",
   "metadata": {},
   "outputs": [
    {
     "name": "stdout",
     "output_type": "stream",
     "text": [
      "[7 8 9]\n"
     ]
    }
   ],
   "source": [
    "print(m_3[0,1,1:4])"
   ]
  }
 ],
 "metadata": {
  "kernelspec": {
   "display_name": "Python 3 (ipykernel)",
   "language": "python",
   "name": "python3"
  },
  "language_info": {
   "codemirror_mode": {
    "name": "ipython",
    "version": 3
   },
   "file_extension": ".py",
   "mimetype": "text/x-python",
   "name": "python",
   "nbconvert_exporter": "python",
   "pygments_lexer": "ipython3",
   "version": "3.9.7"
  }
 },
 "nbformat": 4,
 "nbformat_minor": 5
}

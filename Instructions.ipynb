{
 "cells": [
  {
   "cell_type": "markdown",
   "metadata": {},
   "source": [
    "Regression works by establishing a relationship between variables in the data that represent characteristics—known as the features—of the thing being observed, and the variable we're trying to predict—known as the label. Recall our company that rents bicycles and wants to predict the expected number of rentals in a given day. In this case, features include things like the day of the week, month, and so on, while the label is the number of bicycle rentals.\n",
    "\n",
    "To train the model, we start with a data sample containing the features, as well as known values for the label - so in this case we need historical data that includes dates, weather conditions, and the number of bicycle rentals.\n",
    "\n",
    "We'll then split this data sample into two subsets:\n",
    "\n",
    "A training dataset to which we'll apply an algorithm that determines a function encapsulating the relationship between the feature values and the known label values.\n",
    "A validation or test dataset that we can use to evaluate the model by using it to generate predictions for the label and comparing them to the actual known label values.\n",
    "The use of historic data with known label values to train a model makes regression an example of supervised machine learning"
   ]
  },
  {
   "cell_type": "markdown",
   "metadata": {},
   "source": [
    "Regression\n",
    "Supervised machine learning techniques involve training a model to operate on a set of features and predict a \n",
    "label using a dataset that includes some already-known label values. The training process fits the features to \n",
    "the known labels to define a general function that can be applied to new features for which the labels are unknown, \n",
    "and predict them. You can think of this function like this, in which y represents the label we want to predict and x \n",
    "represents the features the model uses to predict it\n",
    "In most cases, x is actually a vector that consists of multiple feature values, so to be a little more precise, the\n",
    "function could be expressed like this:\n",
    "\n",
    "The goal of training the model is to find a function that performs some kind of calculation to the x values that\n",
    "produces the result y. We do this by applying a machine learning algorithm that tries to fit the x values to a calculation\n",
    "that produces y reasonably accurately for all of the cases in the training dataset.\n",
    "\n",
    "There are lots of machine learning algorithms for supervised learning, and they can be broadly divided into two types:\n",
    "\n",
    "Regression algorithms: Algorithms that predict a y value that is a numeric value, such as the price of a house or the\n",
    "    number of sales transactions.\n",
    "Classification algorithms: Algorithms that predict to which category, or class, an observation belongs. The y value in a\n",
    "    classification model is a vector of probability values between 0 and 1, one for each class, indicating the probability\n",
    "    of the observation belonging to each class.\n",
    "In this notebook, we'll focus on regression, using an example based on a real study in which data for a bicycle sharing\n",
    "scheme was collected and used to predict the number of rentals based on seasonality and weather conditions. We'll use \n",
    "a simplified version of the dataset from that study."
   ]
  },
  {
   "cell_type": "markdown",
   "metadata": {},
   "source": [
    "Explore the Data\n",
    "The first step in any machine learning project is to explore the data that you will use to train a model.\n",
    "The goal of this exploration is to try to understand the relationships between its attributes; in particular,\n",
    "any apparent correlation between the features and the label your model will try to predict. This may require some work \n",
    "to detect and fix issues in the data (such as dealing with missing values, errors, or outlier values), deriving new\n",
    "feature columns by transforming or combining existing features (a process known as feature engineering), normalizing\n",
    "numeric features (values you can measure or count) so they're on a similar scale, and encoding categorical features \n",
    "(values that represent discrete categories) as numeric indicators.\n",
    "\n",
    "Let's start by loading the bicycle sharing data as a Pandas DataFrame and viewing the first few rows."
   ]
  }
 ],
 "metadata": {
  "kernelspec": {
   "display_name": "Python 3",
   "language": "python",
   "name": "python3"
  },
  "language_info": {
   "codemirror_mode": {
    "name": "ipython",
    "version": 3
   },
   "file_extension": ".py",
   "mimetype": "text/x-python",
   "name": "python",
   "nbconvert_exporter": "python",
   "pygments_lexer": "ipython3",
   "version": "3.8.5"
  }
 },
 "nbformat": 4,
 "nbformat_minor": 4
}
